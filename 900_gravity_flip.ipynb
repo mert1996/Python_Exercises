{
 "cells": [
  {
   "cell_type": "code",
   "execution_count": 265,
   "metadata": {},
   "outputs": [],
   "source": [
    "import numpy as np"
   ]
  },
  {
   "cell_type": "code",
   "execution_count": 266,
   "metadata": {},
   "outputs": [],
   "source": [
    "column_size = 3\n",
    "box_counts = (2,3,8)\n"
   ]
  },
  {
   "cell_type": "code",
   "execution_count": 267,
   "metadata": {},
   "outputs": [],
   "source": [
    "empty_box = np.zeros((max(box_counts),column_size),int)\n"
   ]
  },
  {
   "cell_type": "code",
   "execution_count": 268,
   "metadata": {},
   "outputs": [
    {
     "data": {
      "text/plain": [
       "array([[0, 0, 1],\n",
       "       [0, 0, 1],\n",
       "       [0, 0, 1],\n",
       "       [0, 0, 1],\n",
       "       [0, 0, 1],\n",
       "       [0, 1, 1],\n",
       "       [1, 1, 1],\n",
       "       [1, 1, 1]])"
      ]
     },
     "execution_count": 268,
     "metadata": {},
     "output_type": "execute_result"
    }
   ],
   "source": [
    "for i in range(column_size):  # 0,   1,    2,    3\n",
    "    for j in range(box_counts[i]):  # 0,1,2 - 0,1 - 0  -  0,1\n",
    "        empty_box[-(j+1),i] = 1\n",
    "\n",
    "empty_box"
   ]
  },
  {
   "cell_type": "code",
   "execution_count": 269,
   "metadata": {},
   "outputs": [
    {
     "data": {
      "text/plain": [
       "array([[0, 0, 1],\n",
       "       [0, 0, 1],\n",
       "       [0, 0, 1],\n",
       "       [0, 0, 1],\n",
       "       [0, 0, 1],\n",
       "       [0, 1, 1],\n",
       "       [1, 1, 1],\n",
       "       [1, 1, 1]])"
      ]
     },
     "execution_count": 269,
     "metadata": {},
     "output_type": "execute_result"
    }
   ],
   "source": [
    "new_box = np.zeros((max(box_counts),column_size),int)\n",
    "for o,row in enumerate(empty_box):   #  0   ,    1    ,     2   \n",
    "    sayac = 0\n",
    "    for i in row:\n",
    "        if i == 1.:\n",
    "            sayac += 1       \n",
    "    for column in range(sayac):     # 1    -    3    -   4   \n",
    "        new_box[o,-(column+1)] = 1\n",
    "\n",
    "new_box"
   ]
  },
  {
   "cell_type": "code",
   "execution_count": null,
   "metadata": {},
   "outputs": [],
   "source": [
    "## çözüldü"
   ]
  }
 ],
 "metadata": {
  "kernelspec": {
   "display_name": "Python 3.9.7 ('base')",
   "language": "python",
   "name": "python3"
  },
  "language_info": {
   "codemirror_mode": {
    "name": "ipython",
    "version": 3
   },
   "file_extension": ".py",
   "mimetype": "text/x-python",
   "name": "python",
   "nbconvert_exporter": "python",
   "pygments_lexer": "ipython3",
   "version": "3.9.7"
  },
  "orig_nbformat": 4,
  "vscode": {
   "interpreter": {
    "hash": "e12dd48221d847cf2f128b44e713d5b35a93f7b724dcd18c774515b0cc051bb3"
   }
  }
 },
 "nbformat": 4,
 "nbformat_minor": 2
}
